{
  "nbformat": 4,
  "nbformat_minor": 0,
  "metadata": {
    "colab": {
      "name": "DL assignment:colorbot_predict.ipynb",
      "version": "0.3.2",
      "provenance": [],
      "collapsed_sections": []
    },
    "kernelspec": {
      "name": "python3",
      "display_name": "Python 3"
    },
    "accelerator": "GPU"
  },
  "cells": [
    {
      "cell_type": "code",
      "metadata": {
        "id": "6ao-JFaulDlA",
        "colab_type": "code",
        "colab": {}
      },
      "source": [
        "import tensorflow as tf\n",
        "tf.enable_eager_execution()\n",
        "\n",
        "from tensorflow.keras.preprocessing.text import Tokenizer\n",
        "from tensorflow.keras.preprocessing.sequence import pad_sequences\n",
        "\n",
        "import csv\n",
        "import matplotlib.pyplot as plt\n",
        "import numpy as np\n",
        "import os"
      ],
      "execution_count": 0,
      "outputs": []
    },
    {
      "cell_type": "markdown",
      "metadata": {
        "id": "S_agt4S96gCh",
        "colab_type": "text"
      },
      "source": [
        "## Downloading the dataset"
      ]
    },
    {
      "cell_type": "code",
      "metadata": {
        "id": "Bmm0DUpnlNAw",
        "colab_type": "code",
        "outputId": "eadf2f5e-b84d-4e2b-91e0-af60268b5bce",
        "colab": {
          "base_uri": "https://localhost:8080/",
          "height": 238
        }
      },
      "source": [
        "if not os.path.exists('colors.csv'):\n",
        "  !curl -O 'https://raw.githubusercontent.com/random-forests/datasets/master/colors.csv'\n",
        "!head colors.csv"
      ],
      "execution_count": 0,
      "outputs": [
        {
          "output_type": "stream",
          "text": [
            "  % Total    % Received % Xferd  Average Speed   Time    Time     Time  Current\n",
            "                                 Dload  Upload   Total   Spent    Left  Speed\n",
            "100  323k  100  323k    0     0   839k      0 --:--:-- --:--:-- --:--:--  836k\n",
            "name,red,green,blue\n",
            "parakeet,174,182,87\n",
            "saddle brown,88,52,1\n",
            "cucumber crush,222,237,215\n",
            "pool blue,134,194,201\n",
            "distance,98,110,130\n",
            "light urple,179,111,246\n",
            "east side,172,145,206\n",
            "florida seashells,250,228,199\n",
            "paris,145,167,189\n"
          ],
          "name": "stdout"
        }
      ]
    },
    {
      "cell_type": "markdown",
      "metadata": {
        "id": "DeUIjdNw6omH",
        "colab_type": "text"
      },
      "source": [
        "## Reading the data"
      ]
    },
    {
      "cell_type": "code",
      "metadata": {
        "id": "A_hCjUoElOOo",
        "colab_type": "code",
        "outputId": "7724738d-31d6-419c-85cc-ff0f37a85300",
        "colab": {
          "base_uri": "https://localhost:8080/",
          "height": 51
        }
      },
      "source": [
        "\n",
        "colors_rgb = []\n",
        "csv_reader = csv.reader(open('colors.csv'), delimiter=',')\n",
        "next(csv_reader) # Remove the header\n",
        "for row in csv_reader:\n",
        "    name, r, g, b = row[0].lower().strip(), float(row[1]) / 255.0, float(row[2]) / 255.0, float(row[3]) / 255.0\n",
        "    colors_rgb.append((name, r, g, b))\n",
        "print(len(colors_rgb), 'colors downloaded')\n",
        "print('For example', colors_rgb[0])"
      ],
      "execution_count": 0,
      "outputs": [
        {
          "output_type": "stream",
          "text": [
            "14157 colors downloaded\n",
            "For example ('parakeet', 0.6823529411764706, 0.7137254901960784, 0.3411764705882353)\n"
          ],
          "name": "stdout"
        }
      ]
    },
    {
      "cell_type": "code",
      "metadata": {
        "id": "ISanLTTkm2qq",
        "colab_type": "code",
        "colab": {}
      },
      "source": [
        "names = [item[0] for item in colors_rgb]"
      ],
      "execution_count": 0,
      "outputs": []
    },
    {
      "cell_type": "code",
      "metadata": {
        "id": "L1sjZ_tYnGNE",
        "colab_type": "code",
        "colab": {}
      },
      "source": [
        "maxlen = 25\n",
        "t = Tokenizer(char_level=True)\n",
        "t.fit_on_texts(names)\n",
        "tokenized = t.texts_to_sequences(names)\n",
        "padded_names = pad_sequences(tokenized, maxlen=maxlen)\n",
        "padded_names = padded_names.astype('float32')"
      ],
      "execution_count": 0,
      "outputs": []
    },
    {
      "cell_type": "code",
      "metadata": {
        "id": "JOQIb8CdnGuV",
        "colab_type": "code",
        "colab": {}
      },
      "source": [
        "r = [item[1] for item in colors_rgb]\n",
        "g = [item[2] for item in colors_rgb]\n",
        "b = [item[3] for item in colors_rgb]\n",
        "targets = np.column_stack([r, g, b])"
      ],
      "execution_count": 0,
      "outputs": []
    },
    {
      "cell_type": "code",
      "metadata": {
        "id": "fqJzDINxMpOu",
        "colab_type": "code",
        "colab": {}
      },
      "source": [
        ""
      ],
      "execution_count": 0,
      "outputs": []
    },
    {
      "cell_type": "code",
      "metadata": {
        "id": "rG_R0s_mnI2O",
        "colab_type": "code",
        "outputId": "c8a3b332-60c7-4c6f-8963-1bb45b0cd118",
        "colab": {
          "base_uri": "https://localhost:8080/",
          "height": 323
        }
      },
      "source": [
        "model = tf.keras.Sequential()\n",
        "model.add(tf.keras.layers.Reshape((1, maxlen), input_shape=(maxlen,)))\n",
        "model.add(tf.keras.layers.GRU(128,return_sequences=True))\n",
        "model.add(tf.keras.layers.GRU(128))\n",
        "model.add(tf.keras.layers.Dense(64, activation='relu'))\n",
        "model.add(tf.keras.layers.Dense(3, activation='sigmoid'))\n",
        "model.compile(optimizer=tf.train.AdamOptimizer(), loss='mse')\n",
        "model.summary()"
      ],
      "execution_count": 0,
      "outputs": [
        {
          "output_type": "stream",
          "text": [
            "Model: \"sequential\"\n",
            "_________________________________________________________________\n",
            "Layer (type)                 Output Shape              Param #   \n",
            "=================================================================\n",
            "reshape (Reshape)            (None, 1, 25)             0         \n",
            "_________________________________________________________________\n",
            "gru (GRU)                    (None, 1, 128)            59136     \n",
            "_________________________________________________________________\n",
            "gru_1 (GRU)                  (None, 128)               98688     \n",
            "_________________________________________________________________\n",
            "dense (Dense)                (None, 64)                8256      \n",
            "_________________________________________________________________\n",
            "dense_1 (Dense)              (None, 3)                 195       \n",
            "=================================================================\n",
            "Total params: 166,275\n",
            "Trainable params: 166,275\n",
            "Non-trainable params: 0\n",
            "_________________________________________________________________\n"
          ],
          "name": "stdout"
        }
      ]
    },
    {
      "cell_type": "code",
      "metadata": {
        "id": "sqOfMfWxoGiE",
        "colab_type": "code",
        "outputId": "e276cbe9-607f-4ff7-9616-e3d6b68bdd80",
        "colab": {
          "base_uri": "https://localhost:8080/",
          "height": 1000
        }
      },
      "source": [
        "history = model.fit(padded_names, targets, epochs=35, validation_split=0.1)"
      ],
      "execution_count": 0,
      "outputs": [
        {
          "output_type": "stream",
          "text": [
            "Train on 12741 samples, validate on 1416 samples\n"
          ],
          "name": "stdout"
        },
        {
          "output_type": "stream",
          "text": [
            "WARNING: Logging before flag parsing goes to stderr.\n",
            "W0701 17:17:18.351777 140685905508224 deprecation.py:323] From /usr/local/lib/python3.6/dist-packages/tensorflow/python/ops/math_grad.py:1250: add_dispatch_support.<locals>.wrapper (from tensorflow.python.ops.array_ops) is deprecated and will be removed in a future version.\n",
            "Instructions for updating:\n",
            "Use tf.where in 2.0, which has the same broadcast rule as np.where\n"
          ],
          "name": "stderr"
        },
        {
          "output_type": "stream",
          "text": [
            "Epoch 1/35\n",
            "12741/12741 [==============================] - 9s 721us/sample - loss: 0.0626 - val_loss: 0.0629\n",
            "Epoch 2/35\n",
            "12741/12741 [==============================] - 5s 382us/sample - loss: 0.0593 - val_loss: 0.0621\n",
            "Epoch 3/35\n",
            "12741/12741 [==============================] - 5s 378us/sample - loss: 0.0575 - val_loss: 0.0610\n",
            "Epoch 4/35\n",
            "12741/12741 [==============================] - 5s 377us/sample - loss: 0.0559 - val_loss: 0.0607\n",
            "Epoch 5/35\n",
            "12741/12741 [==============================] - 5s 376us/sample - loss: 0.0544 - val_loss: 0.0597\n",
            "Epoch 6/35\n",
            "12741/12741 [==============================] - 5s 381us/sample - loss: 0.0527 - val_loss: 0.0595\n",
            "Epoch 7/35\n",
            "12741/12741 [==============================] - 5s 385us/sample - loss: 0.0515 - val_loss: 0.0595\n",
            "Epoch 8/35\n",
            "12741/12741 [==============================] - 5s 372us/sample - loss: 0.0496 - val_loss: 0.0595\n",
            "Epoch 9/35\n",
            "12741/12741 [==============================] - 5s 378us/sample - loss: 0.0483 - val_loss: 0.0595\n",
            "Epoch 10/35\n",
            "12741/12741 [==============================] - 5s 376us/sample - loss: 0.0472 - val_loss: 0.0594\n",
            "Epoch 11/35\n",
            "12741/12741 [==============================] - 5s 379us/sample - loss: 0.0457 - val_loss: 0.0583\n",
            "Epoch 12/35\n",
            "12741/12741 [==============================] - 5s 378us/sample - loss: 0.0442 - val_loss: 0.0609\n",
            "Epoch 13/35\n",
            "12741/12741 [==============================] - 5s 378us/sample - loss: 0.0432 - val_loss: 0.0612\n",
            "Epoch 14/35\n",
            "12741/12741 [==============================] - 5s 375us/sample - loss: 0.0418 - val_loss: 0.0606\n",
            "Epoch 15/35\n",
            "12741/12741 [==============================] - 5s 372us/sample - loss: 0.0406 - val_loss: 0.0613\n",
            "Epoch 16/35\n",
            "12741/12741 [==============================] - 5s 374us/sample - loss: 0.0392 - val_loss: 0.0624\n",
            "Epoch 17/35\n",
            "12741/12741 [==============================] - 5s 373us/sample - loss: 0.0380 - val_loss: 0.0635\n",
            "Epoch 18/35\n",
            "12741/12741 [==============================] - 5s 373us/sample - loss: 0.0371 - val_loss: 0.0636\n",
            "Epoch 19/35\n",
            "12741/12741 [==============================] - 5s 374us/sample - loss: 0.0359 - val_loss: 0.0638\n",
            "Epoch 20/35\n",
            "12741/12741 [==============================] - 5s 373us/sample - loss: 0.0346 - val_loss: 0.0645\n",
            "Epoch 21/35\n",
            "12741/12741 [==============================] - 5s 372us/sample - loss: 0.0335 - val_loss: 0.0650\n",
            "Epoch 22/35\n",
            "12741/12741 [==============================] - 5s 374us/sample - loss: 0.0327 - val_loss: 0.0626\n",
            "Epoch 23/35\n",
            "12741/12741 [==============================] - 5s 372us/sample - loss: 0.0316 - val_loss: 0.0650\n",
            "Epoch 24/35\n",
            "12741/12741 [==============================] - 5s 376us/sample - loss: 0.0307 - val_loss: 0.0658\n",
            "Epoch 25/35\n",
            "12741/12741 [==============================] - 5s 373us/sample - loss: 0.0297 - val_loss: 0.0643\n",
            "Epoch 26/35\n",
            "12741/12741 [==============================] - 5s 373us/sample - loss: 0.0288 - val_loss: 0.0667\n",
            "Epoch 27/35\n",
            "12741/12741 [==============================] - 5s 370us/sample - loss: 0.0280 - val_loss: 0.0689\n",
            "Epoch 28/35\n",
            "12741/12741 [==============================] - 5s 373us/sample - loss: 0.0271 - val_loss: 0.0660\n",
            "Epoch 29/35\n",
            "12741/12741 [==============================] - 5s 373us/sample - loss: 0.0265 - val_loss: 0.0675\n",
            "Epoch 30/35\n",
            "12741/12741 [==============================] - 5s 375us/sample - loss: 0.0259 - val_loss: 0.0683\n",
            "Epoch 31/35\n",
            "12741/12741 [==============================] - 5s 373us/sample - loss: 0.0249 - val_loss: 0.0688\n",
            "Epoch 32/35\n",
            "12741/12741 [==============================] - 5s 374us/sample - loss: 0.0242 - val_loss: 0.0682\n",
            "Epoch 33/35\n",
            "12741/12741 [==============================] - 5s 373us/sample - loss: 0.0236 - val_loss: 0.0682\n",
            "Epoch 34/35\n",
            "12741/12741 [==============================] - 5s 373us/sample - loss: 0.0231 - val_loss: 0.0701\n",
            "Epoch 35/35\n",
            "12741/12741 [==============================] - 5s 371us/sample - loss: 0.0223 - val_loss: 0.0693\n"
          ],
          "name": "stdout"
        }
      ]
    },
    {
      "cell_type": "code",
      "metadata": {
        "id": "yzQX11aDoUZ2",
        "colab_type": "code",
        "outputId": "e57c09c3-7cc0-4db4-a276-c6ff697070b5",
        "colab": {
          "base_uri": "https://localhost:8080/",
          "height": 281
        }
      },
      "source": [
        "import matplotlib.pyplot as plt\n",
        "%matplotlib inline\n",
        "loss = history.history['loss']\n",
        "val_loss = history.history['val_loss']\n",
        "epochs = range(len(loss))\n",
        "plt.plot(epochs, loss, 'bo')\n",
        "plt.plot(epochs, val_loss, 'b')\n",
        "plt.title('Training and validation loss')\n",
        "plt.show()"
      ],
      "execution_count": 0,
      "outputs": [
        {
          "output_type": "display_data",
          "data": {
            "image/png": "[encoded data removed]",
            "text/plain": [
              "<Figure size 432x288 with 1 Axes>"
            ]
          },
          "metadata": {
            "tags": []
          }
        }
      ]
    },
    {
      "cell_type": "markdown",
      "metadata": {
        "id": "wkBORdjKjkdi",
        "colab_type": "text"
      },
      "source": [
        "## Overfitted the data massively.. Let's now see the result!"
      ]
    },
    {
      "cell_type": "code",
      "metadata": {
        "id": "_IYXreehqc7f",
        "colab_type": "code",
        "colab": {}
      },
      "source": [
        "# plots a color image\n",
        "def plot_rgb(rgb):\n",
        "    data = [[rgb]]\n",
        "    plt.figure(figsize=(2,2))\n",
        "    plt.imshow(data, interpolation='nearest')\n",
        "    plt.axis('off')\n",
        "    plt.show()"
      ],
      "execution_count": 0,
      "outputs": []
    },
    {
      "cell_type": "code",
      "metadata": {
        "id": "Fc5TsbxQqep1",
        "colab_type": "code",
        "colab": {}
      },
      "source": [
        "def scale(n):\n",
        "    return int(n * 255)"
      ],
      "execution_count": 0,
      "outputs": []
    },
    {
      "cell_type": "code",
      "metadata": {
        "id": "_e1E5PMTqhcd",
        "colab_type": "code",
        "colab": {}
      },
      "source": [
        "def predict(name):\n",
        "    tokenized = t.texts_to_sequences([name])\n",
        "    padded = pad_sequences(tokenized, maxlen=maxlen)\n",
        "    padded = padded.astype('float32')\n",
        "    pred = model.predict(np.array(padded))[0]\n",
        "    # Check the shapes here if you run into trouble with the next \n",
        "    # method after adding your RNN\n",
        "    print(pred)\n",
        "    r, g, b = scale(pred[0]), scale(pred[1]), scale(pred[2])\n",
        "    print(name + ',', 'R,G,B:', r,g,b)\n",
        "    plot_rgb(pred)"
      ],
      "execution_count": 0,
      "outputs": []
    },
    {
      "cell_type": "code",
      "metadata": {
        "id": "nEBcGiqSqk-W",
        "colab_type": "code",
        "colab": {}
      },
      "source": [
        ""
      ],
      "execution_count": 0,
      "outputs": []
    },
    {
      "cell_type": "code",
      "metadata": {
        "id": "C2rwJDV9qjJN",
        "colab_type": "code",
        "outputId": "8b6596a0-14e6-44c0-9611-f46e5238dd83",
        "colab": {
          "base_uri": "https://localhost:8080/",
          "height": 539
        }
      },
      "source": [
        "# some \"test\" data\n",
        "predict(\"light blue\")\n",
        "predict(\"black\")\n",
        "predict(\"dark blue\")"
      ],
      "execution_count": 0,
      "outputs": [
        {
          "output_type": "stream",
          "text": [
            "[0.42921725 0.5714721  0.66559905]\n",
            "light blue, R,G,B: 109 145 169\n"
          ],
          "name": "stdout"
        },
        {
          "output_type": "display_data",
          "data": {
            "image/png": "[encoded data removed]",
            "text/plain": [
              "<Figure size 144x144 with 1 Axes>"
            ]
          },
          "metadata": {
            "tags": []
          }
        },
        {
          "output_type": "stream",
          "text": [
            "[0.09268745 0.10647664 0.10703159]\n",
            "black, R,G,B: 23 27 27\n"
          ],
          "name": "stdout"
        },
        {
          "output_type": "display_data",
          "data": {
            "image/png": "[encoded data removed]",
            "text/plain": [
              "<Figure size 144x144 with 1 Axes>"
            ]
          },
          "metadata": {
            "tags": []
          }
        },
        {
          "output_type": "stream",
          "text": [
            "[0.09794722 0.22268204 0.5145395 ]\n",
            "dark blue, R,G,B: 24 56 131\n"
          ],
          "name": "stdout"
        },
        {
          "output_type": "display_data",
          "data": {
            "image/png": "[encoded data removed]",
            "text/plain": [
              "<Figure size 144x144 with 1 Axes>"
            ]
          },
          "metadata": {
            "tags": []
          }
        }
      ]
    },
    {
      "cell_type": "code",
      "metadata": {
        "id": "auO1kLAijd_W",
        "colab_type": "code",
        "colab": {}
      },
      "source": [
        ""
      ],
      "execution_count": 0,
      "outputs": []
    }
  ]
}